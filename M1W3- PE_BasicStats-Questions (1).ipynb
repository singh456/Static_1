{
 "cells": [
  {
   "cell_type": "markdown",
   "metadata": {},
   "source": [
    "# 1.Import necessary packages"
   ]
  },
  {
   "cell_type": "code",
   "execution_count": 2,
   "metadata": {},
   "outputs": [],
   "source": [
    "import pandas as pd\n",
    "data = pd.read_csv('Inc_Exp_Data (1).csv')"
   ]
  },
  {
   "cell_type": "markdown",
   "metadata": {},
   "source": [
    "# 2.Load the file"
   ]
  },
  {
   "cell_type": "code",
   "execution_count": 4,
   "metadata": {},
   "outputs": [
    {
     "name": "stdout",
     "output_type": "stream",
     "text": [
      "   Mthly_HH_Income  Mthly_HH_Expense  No_of_Fly_Members  Emi_or_Rent_Amt  \\\n",
      "0             5000              8000                  3             2000   \n",
      "1             6000              7000                  2             3000   \n",
      "2            10000              4500                  2                0   \n",
      "3            10000              2000                  1                0   \n",
      "4            12500             12000                  2             3000   \n",
      "\n",
      "   Annual_HH_Income Highest_Qualified_Member  No_of_Earning_Members  \n",
      "0             64200           Under-Graduate                      1  \n",
      "1             79920               Illiterate                      1  \n",
      "2            112800           Under-Graduate                      1  \n",
      "3             97200               Illiterate                      1  \n",
      "4            147000                 Graduate                      1  \n"
     ]
    }
   ],
   "source": [
    "import pandas as pd\n",
    "\n",
    "# Load the dataset\n",
    "data = pd.read_csv('Inc_Exp_Data (1).csv')\n",
    "\n",
    "# Display the first few rows of the dataset\n",
    "print(data.head())\n"
   ]
  },
  {
   "cell_type": "markdown",
   "metadata": {},
   "source": [
    "# 3.Analyze the data"
   ]
  },
  {
   "cell_type": "code",
   "execution_count": 6,
   "metadata": {},
   "outputs": [
    {
     "name": "stdout",
     "output_type": "stream",
     "text": [
      "<class 'pandas.core.frame.DataFrame'>\n",
      "RangeIndex: 50 entries, 0 to 49\n",
      "Data columns (total 7 columns):\n",
      " #   Column                    Non-Null Count  Dtype \n",
      "---  ------                    --------------  ----- \n",
      " 0   Mthly_HH_Income           50 non-null     int64 \n",
      " 1   Mthly_HH_Expense          50 non-null     int64 \n",
      " 2   No_of_Fly_Members         50 non-null     int64 \n",
      " 3   Emi_or_Rent_Amt           50 non-null     int64 \n",
      " 4   Annual_HH_Income          50 non-null     int64 \n",
      " 5   Highest_Qualified_Member  50 non-null     object\n",
      " 6   No_of_Earning_Members     50 non-null     int64 \n",
      "dtypes: int64(6), object(1)\n",
      "memory usage: 2.9+ KB\n",
      "None\n",
      "       Mthly_HH_Income  Mthly_HH_Expense  No_of_Fly_Members  Emi_or_Rent_Amt  \\\n",
      "count        50.000000         50.000000          50.000000        50.000000   \n",
      "mean      41558.000000      18818.000000           4.060000      3060.000000   \n",
      "std       26097.908979      12090.216824           1.517382      6241.434948   \n",
      "min        5000.000000       2000.000000           1.000000         0.000000   \n",
      "25%       23550.000000      10000.000000           3.000000         0.000000   \n",
      "50%       35000.000000      15500.000000           4.000000         0.000000   \n",
      "75%       50375.000000      25000.000000           5.000000      3500.000000   \n",
      "max      100000.000000      50000.000000           7.000000     35000.000000   \n",
      "\n",
      "       Annual_HH_Income  No_of_Earning_Members  \n",
      "count      5.000000e+01              50.000000  \n",
      "mean       4.900190e+05               1.460000  \n",
      "std        3.201358e+05               0.734291  \n",
      "min        6.420000e+04               1.000000  \n",
      "25%        2.587500e+05               1.000000  \n",
      "50%        4.474200e+05               1.000000  \n",
      "75%        5.947200e+05               2.000000  \n",
      "max        1.404000e+06               4.000000  \n",
      "                       Mthly_HH_Income  Mthly_HH_Expense  No_of_Fly_Members  \\\n",
      "Mthly_HH_Income               1.000000          0.649215           0.448317   \n",
      "Mthly_HH_Expense              0.649215          1.000000           0.639702   \n",
      "No_of_Fly_Members             0.448317          0.639702           1.000000   \n",
      "Emi_or_Rent_Amt               0.036976          0.405280           0.085808   \n",
      "Annual_HH_Income              0.970315          0.591222           0.430868   \n",
      "No_of_Earning_Members         0.347883          0.311915           0.597482   \n",
      "\n",
      "                       Emi_or_Rent_Amt  Annual_HH_Income  \\\n",
      "Mthly_HH_Income               0.036976          0.970315   \n",
      "Mthly_HH_Expense              0.405280          0.591222   \n",
      "No_of_Fly_Members             0.085808          0.430868   \n",
      "Emi_or_Rent_Amt               1.000000          0.002716   \n",
      "Annual_HH_Income              0.002716          1.000000   \n",
      "No_of_Earning_Members        -0.097431          0.296679   \n",
      "\n",
      "                       No_of_Earning_Members  \n",
      "Mthly_HH_Income                     0.347883  \n",
      "Mthly_HH_Expense                    0.311915  \n",
      "No_of_Fly_Members                   0.597482  \n",
      "Emi_or_Rent_Amt                    -0.097431  \n",
      "Annual_HH_Income                    0.296679  \n",
      "No_of_Earning_Members               1.000000  \n"
     ]
    },
    {
     "name": "stderr",
     "output_type": "stream",
     "text": [
      "C:\\Users\\intel\\AppData\\Local\\Temp\\ipykernel_3008\\2003585133.py:6: FutureWarning: The default value of numeric_only in DataFrame.corr is deprecated. In a future version, it will default to False. Select only valid columns or specify the value of numeric_only to silence this warning.\n",
      "  correlation_matrix = data.corr()\n"
     ]
    }
   ],
   "source": [
    "# Display the basic information about the dataset\n",
    "print(data.info())\n",
    "# Display summary statistics for numerical columns\n",
    "print(data.describe())\n",
    "# Calculate the correlation matrix\n",
    "correlation_matrix = data.corr()\n",
    "\n",
    "# Display the correlation matrix\n",
    "print(correlation_matrix)\n"
   ]
  },
  {
   "cell_type": "markdown",
   "metadata": {},
   "source": [
    "# 4.What is the Mean Expense of a Household?"
   ]
  },
  {
   "cell_type": "code",
   "execution_count": 7,
   "metadata": {},
   "outputs": [
    {
     "name": "stdout",
     "output_type": "stream",
     "text": [
      "Mean Expense of a Household: 18818.0\n"
     ]
    }
   ],
   "source": [
    "import pandas as pd\n",
    "\n",
    "# Load the dataset\n",
    "data = pd.read_csv('Inc_Exp_Data (1).csv')\n",
    "\n",
    "# Calculate the mean expense of a household\n",
    "mean_expense = data['Mthly_HH_Expense'].mean()\n",
    "\n",
    "print(\"Mean Expense of a Household:\", mean_expense)\n"
   ]
  },
  {
   "cell_type": "markdown",
   "metadata": {},
   "source": [
    "# 5.What is the Median Household Expense?"
   ]
  },
  {
   "cell_type": "code",
   "execution_count": 8,
   "metadata": {},
   "outputs": [
    {
     "name": "stdout",
     "output_type": "stream",
     "text": [
      "Median Household Expense: 15500.0\n"
     ]
    }
   ],
   "source": [
    "import pandas as pd\n",
    "\n",
    "# Load the dataset\n",
    "data = pd.read_csv('Inc_Exp_Data (1).csv')\n",
    "\n",
    "# Calculate the median household expense\n",
    "median_expense = data['Mthly_HH_Expense'].median()\n",
    "\n",
    "print(\"Median Household Expense:\", median_expense)\n"
   ]
  },
  {
   "cell_type": "markdown",
   "metadata": {},
   "source": [
    "# 6.What is the Monthly Expense for most of the Households?"
   ]
  },
  {
   "cell_type": "code",
   "execution_count": 9,
   "metadata": {},
   "outputs": [
    {
     "name": "stdout",
     "output_type": "stream",
     "text": [
      "Monthly Expense for Most of the Households: 25000\n"
     ]
    }
   ],
   "source": [
    "import pandas as pd\n",
    "from statistics import mode\n",
    "\n",
    "# Load the dataset\n",
    "data = pd.read_csv('Inc_Exp_Data (1).csv')\n",
    "\n",
    "# Calculate the mode(s) of monthly household expenses\n",
    "try:\n",
    "    expense_mode = mode(data['Mthly_HH_Expense'])\n",
    "    print(\"Monthly Expense for Most of the Households:\", expense_mode)\n",
    "except StatisticsError:\n",
    "    print(\"There is no unique mode. Multiple expense values have the same highest frequency.\")\n"
   ]
  },
  {
   "cell_type": "markdown",
   "metadata": {},
   "source": [
    "# 7.Plot the Histogram to count the Highest qualified member"
   ]
  },
  {
   "cell_type": "code",
   "execution_count": 10,
   "metadata": {},
   "outputs": [
    {
     "name": "stderr",
     "output_type": "stream",
     "text": [
      "Matplotlib is building the font cache; this may take a moment.\n"
     ]
    },
    {
     "data": {
      "image/png": "[encoded data removed]",
      "text/plain": [
       "<Figure size 1000x600 with 1 Axes>"
      ]
     },
     "metadata": {},
     "output_type": "display_data"
    }
   ],
   "source": [
    "import pandas as pd\n",
    "import matplotlib.pyplot as plt\n",
    "\n",
    "# Load the dataset\n",
    "data = pd.read_csv('Inc_Exp_Data (1).csv')\n",
    "\n",
    "# Plot a histogram of the highest qualified members\n",
    "plt.figure(figsize=(10, 6))\n",
    "plt.hist(data['Highest_Qualified_Member'], bins=10, edgecolor='black', alpha=0.7)\n",
    "plt.xlabel('Highest Qualified Member')\n",
    "plt.ylabel('Count')\n",
    "plt.title('Histogram of Highest Qualified Members')\n",
    "plt.xticks(rotation=45)  # Rotate x-axis labels for better readability\n",
    "plt.tight_layout()\n",
    "plt.show()\n"
   ]
  },
  {
   "cell_type": "markdown",
   "metadata": {},
   "source": [
    "# 8.Calculate IQR(difference between 75% and 25% quartile)"
   ]
  },
  {
   "cell_type": "code",
   "execution_count": 11,
   "metadata": {},
   "outputs": [
    {
     "name": "stdout",
     "output_type": "stream",
     "text": [
      "Interquartile Range (IQR) for Mthly_HH_Income: 26825.0\n"
     ]
    }
   ],
   "source": [
    "import pandas as pd\n",
    "\n",
    "# Load the dataset\n",
    "data = pd.read_csv('Inc_Exp_Data (1).csv')\n",
    "\n",
    "# Calculate the IQR for 'Mthly_HH_Income'\n",
    "q1 = data['Mthly_HH_Income'].quantile(0.25)\n",
    "q3 = data['Mthly_HH_Income'].quantile(0.75)\n",
    "iqr = q3 - q1\n",
    "\n",
    "print(\"Interquartile Range (IQR) for Mthly_HH_Income:\", iqr)\n"
   ]
  },
  {
   "cell_type": "markdown",
   "metadata": {},
   "source": [
    "# 9.Calculate Standard Deviation for first 4 columns."
   ]
  },
  {
   "cell_type": "code",
   "execution_count": 12,
   "metadata": {},
   "outputs": [
    {
     "name": "stdout",
     "output_type": "stream",
     "text": [
      "Standard Deviation for the First 4 Columns:\n",
      "Mthly_HH_Income      26097.908979\n",
      "Mthly_HH_Expense     12090.216824\n",
      "No_of_Fly_Members        1.517382\n",
      "Emi_or_Rent_Amt       6241.434948\n",
      "dtype: float64\n"
     ]
    }
   ],
   "source": [
    "import pandas as pd\n",
    "\n",
    "# Load the dataset\n",
    "data = pd.read_csv('Inc_Exp_Data (1).csv')\n",
    "\n",
    "# Calculate the standard deviation for the first 4 columns\n",
    "std_columns = data.iloc[:, :4].std()\n",
    "\n",
    "print(\"Standard Deviation for the First 4 Columns:\")\n",
    "print(std_columns)\n"
   ]
  },
  {
   "cell_type": "markdown",
   "metadata": {},
   "source": [
    "# 10.Calculate Variance for first 3 columns."
   ]
  },
  {
   "cell_type": "code",
   "execution_count": 13,
   "metadata": {},
   "outputs": [
    {
     "name": "stdout",
     "output_type": "stream",
     "text": [
      "Variance for the First 3 Columns:\n",
      "Mthly_HH_Income      6.811009e+08\n",
      "Mthly_HH_Expense     1.461733e+08\n",
      "No_of_Fly_Members    2.302449e+00\n",
      "dtype: float64\n"
     ]
    }
   ],
   "source": [
    "import pandas as pd\n",
    "\n",
    "# Load the dataset\n",
    "data = pd.read_csv('Inc_Exp_Data (1).csv')\n",
    "\n",
    "# Calculate the variance for the first 3 columns\n",
    "var_columns = data.iloc[:, :3].var()\n",
    "\n",
    "print(\"Variance for the First 3 Columns:\")\n",
    "print(var_columns)\n"
   ]
  },
  {
   "cell_type": "markdown",
   "metadata": {},
   "source": [
    "# 11.Calculate the count of Highest qualified member."
   ]
  },
  {
   "cell_type": "code",
   "execution_count": 14,
   "metadata": {},
   "outputs": [
    {
     "name": "stdout",
     "output_type": "stream",
     "text": [
      "Count of Highest Qualified Members:\n",
      "Graduate          19\n",
      "Under-Graduate    10\n",
      "Professional      10\n",
      "Post-Graduate      6\n",
      "Illiterate         5\n",
      "Name: Highest_Qualified_Member, dtype: int64\n"
     ]
    }
   ],
   "source": [
    "import pandas as pd\n",
    "\n",
    "# Load the dataset\n",
    "data = pd.read_csv('Inc_Exp_Data (1).csv')\n",
    "\n",
    "# Calculate the count of each highest qualified member\n",
    "qualified_member_counts = data['Highest_Qualified_Member'].value_counts()\n",
    "\n",
    "print(\"Count of Highest Qualified Members:\")\n",
    "print(qualified_member_counts)\n"
   ]
  },
  {
   "cell_type": "markdown",
   "metadata": {},
   "source": [
    "# 12.Plot the Histogram to count the No_of_Earning_Members"
   ]
  },
  {
   "cell_type": "code",
   "execution_count": 15,
   "metadata": {},
   "outputs": [
    {
     "data": {
      "image/png": "[encoded data removed]",
      "text/plain": [
       "<Figure size 1000x600 with 1 Axes>"
      ]
     },
     "metadata": {},
     "output_type": "display_data"
    }
   ],
   "source": [
    "import pandas as pd\n",
    "import matplotlib.pyplot as plt\n",
    "\n",
    "# Load the dataset\n",
    "data = pd.read_csv('Inc_Exp_Data (1).csv')\n",
    "\n",
    "# Plot a histogram of the number of earning members\n",
    "plt.figure(figsize=(10, 6))\n",
    "plt.hist(data['No_of_Earning_Members'], bins=10, edgecolor='black', alpha=0.7)\n",
    "plt.xlabel('Number of Earning Members')\n",
    "plt.ylabel('Count')\n",
    "plt.title('Histogram of Number of Earning Members')\n",
    "plt.tight_layout()\n",
    "plt.show()\n"
   ]
  },
  {
   "cell_type": "markdown",
   "metadata": {},
   "source": [
    "# 13.Suppose you have option to invest in Stock A or Stock B. The stocks • have different expected returns and standard deviations. The expected return of Stock A is 15% and Stock B is 10%. Standard Deviation of the returns of these stocks is 10% and 5% respectively.\n",
    "\n",
    "Which is better investment?"
   ]
  },
  {
   "cell_type": "code",
   "execution_count": 16,
   "metadata": {},
   "outputs": [
    {
     "name": "stdout",
     "output_type": "stream",
     "text": [
      "Stock B has a higher Sharpe Ratio, indicating potentially better risk-adjusted return.\n"
     ]
    }
   ],
   "source": [
    "# Given data\n",
    "expected_return_A = 0.15  # 15%\n",
    "expected_return_B = 0.10  # 10%\n",
    "std_dev_A = 0.10         # 10%\n",
    "std_dev_B = 0.05         # 5%\n",
    "risk_free_rate = 0.03    # Assume a risk-free rate of 3%\n",
    "\n",
    "# Calculate Sharpe Ratios\n",
    "sharpe_ratio_A = (expected_return_A - risk_free_rate) / std_dev_A\n",
    "sharpe_ratio_B = (expected_return_B - risk_free_rate) / std_dev_B\n",
    "\n",
    "# Compare Sharpe Ratios\n",
    "if sharpe_ratio_A > sharpe_ratio_B:\n",
    "    print(\"Stock A has a higher Sharpe Ratio, indicating potentially better risk-adjusted return.\")\n",
    "else:\n",
    "    print(\"Stock B has a higher Sharpe Ratio, indicating potentially better risk-adjusted return.\")\n"
   ]
  },
  {
   "cell_type": "code",
   "execution_count": null,
   "metadata": {},
   "outputs": [],
   "source": []
  }
 ],
 "metadata": {
  "kernelspec": {
   "display_name": "Python 3 (ipykernel)",
   "language": "python",
   "name": "python3"
  },
  "language_info": {
   "codemirror_mode": {
    "name": "ipython",
    "version": 3
   },
   "file_extension": ".py",
   "mimetype": "text/x-python",
   "name": "python",
   "nbconvert_exporter": "python",
   "pygments_lexer": "ipython3",
   "version": "3.11.4"
  }
 },
 "nbformat": 4,
 "nbformat_minor": 2
}
